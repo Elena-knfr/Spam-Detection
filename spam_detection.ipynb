{
 "cells": [
  {
   "cell_type": "code",
   "execution_count": 27,
   "id": "2b31bc48",
   "metadata": {},
   "outputs": [],
   "source": [
    "import numpy as np\n",
    "import pandas as pd\n",
    "import tensorflow as tf\n",
    "from tensorflow.keras.preprocessing.text import Tokenizer"
   ]
  },
  {
   "cell_type": "code",
   "execution_count": 31,
   "id": "38bcd7c9",
   "metadata": {},
   "outputs": [],
   "source": [
    "dataset = pd.read_csv('combined_data.csv')"
   ]
  },
  {
   "cell_type": "code",
   "execution_count": 32,
   "id": "310ca2f1",
   "metadata": {},
   "outputs": [],
   "source": [
    "sentences = dataset['text'].tolist()"
   ]
  },
  {
   "cell_type": "code",
   "execution_count": 33,
   "id": "519148fa",
   "metadata": {},
   "outputs": [],
   "source": [
    "labels = dataset['sentiment'].tolist()"
   ]
  },
  {
   "cell_type": "code",
   "execution_count": 34,
   "id": "e72f98b6",
   "metadata": {},
   "outputs": [
    {
     "data": {
      "text/plain": [
       "1593"
      ]
     },
     "execution_count": 34,
     "metadata": {},
     "output_type": "execute_result"
    }
   ],
   "source": [
    "training_size = len(sentences) * 0.8\n",
    "training_size = int(training_size)\n",
    "training_size"
   ]
  },
  {
   "cell_type": "code",
   "execution_count": 49,
   "id": "1fce520e",
   "metadata": {},
   "outputs": [
    {
     "data": {
      "text/plain": [
       "(1593,)"
      ]
     },
     "execution_count": 49,
     "metadata": {},
     "output_type": "execute_result"
    }
   ],
   "source": [
    "training_sentences = sentences[:training_size]\n",
    "training_labels = labels[:training_size]\n",
    "\n",
    "test_sentences = sentences[training_size:]\n",
    "test_labels = labels[training_size:]\n",
    "\n",
    "x = np.array(training_sentences)\n",
    "x.shape"
   ]
  },
  {
   "cell_type": "code",
   "execution_count": 36,
   "id": "c96091f9",
   "metadata": {},
   "outputs": [],
   "source": [
    "from tensorflow.keras.preprocessing.text import Tokenizer\n",
    "from tensorflow.keras.preprocessing.sequence import pad_sequences\n",
    "\n",
    "tokenizer = Tokenizer(num_words = 1000, oov_token = 'OOV')\n",
    "tokenizer.fit_on_texts(training_sentences)\n",
    "word_index = tokenizer.word_index\n",
    "\n",
    "training_sequences = tokenizer.texts_to_sequences(training_sentences)\n",
    "training_padded = pad_sequences(training_sequences, maxlen = 100, padding = 'post', truncating = 'post')\n",
    "\n",
    "test_sequences = tokenizer.texts_to_sequences(test_sentences)\n",
    "test_padded = pad_sequences(test_sequences, maxlen = 100, padding = 'post', truncating = 'post')"
   ]
  },
  {
   "cell_type": "code",
   "execution_count": 44,
   "id": "e3d15f3a",
   "metadata": {},
   "outputs": [
    {
     "name": "stdout",
     "output_type": "stream",
     "text": [
      "Model: \"sequential_3\"\n",
      "_________________________________________________________________\n",
      "Layer (type)                 Output Shape              Param #   \n",
      "=================================================================\n",
      "embedding_3 (Embedding)      (None, 100, 16)           16000     \n",
      "_________________________________________________________________\n",
      "flatten_3 (Flatten)          (None, 1600)              0         \n",
      "_________________________________________________________________\n",
      "dense_6 (Dense)              (None, 6)                 9606      \n",
      "_________________________________________________________________\n",
      "dense_7 (Dense)              (None, 1)                 7         \n",
      "=================================================================\n",
      "Total params: 25,613\n",
      "Trainable params: 25,613\n",
      "Non-trainable params: 0\n",
      "_________________________________________________________________\n"
     ]
    }
   ],
   "source": [
    "model = tf.keras.Sequential()\n",
    "model.add(tf.keras.layers.Embedding(1000, 16, input_length = 100))\n",
    "model.add(tf.keras.layers.Flatten())\n",
    "model.add(tf.keras.layers.Dense(6, activation = 'relu'))\n",
    "model.add(tf.keras.layers.Dense(1, activation = 'sigmoid'))\n",
    "\n",
    "model.compile(loss = 'binary_crossentropy', optimizer = 'adam', metrics = ['accuracy'])\n",
    "model.summary()"
   ]
  },
  {
   "cell_type": "code",
   "execution_count": 45,
   "id": "7e1be791",
   "metadata": {},
   "outputs": [
    {
     "name": "stdout",
     "output_type": "stream",
     "text": [
      "Epoch 1/20\n",
      "50/50 [==============================] - 3s 69ms/step - loss: 0.6921 - accuracy: 0.5210 - val_loss: 0.6931 - val_accuracy: 0.4110\n",
      "Epoch 2/20\n",
      "50/50 [==============================] - 0s 2ms/step - loss: 0.6863 - accuracy: 0.5242 - val_loss: 0.7069 - val_accuracy: 0.4110\n",
      "Epoch 3/20\n",
      "50/50 [==============================] - 0s 2ms/step - loss: 0.6718 - accuracy: 0.5581 - val_loss: 0.6876 - val_accuracy: 0.4812\n",
      "Epoch 4/20\n",
      "50/50 [==============================] - 0s 2ms/step - loss: 0.6408 - accuracy: 0.6183 - val_loss: 0.6820 - val_accuracy: 0.4662\n",
      "Epoch 5/20\n",
      "50/50 [==============================] - 0s 2ms/step - loss: 0.5877 - accuracy: 0.6974 - val_loss: 0.6512 - val_accuracy: 0.5840\n",
      "Epoch 6/20\n",
      "50/50 [==============================] - 0s 2ms/step - loss: 0.5230 - accuracy: 0.7847 - val_loss: 0.6294 - val_accuracy: 0.6316\n",
      "Epoch 7/20\n",
      "50/50 [==============================] - 0s 2ms/step - loss: 0.4642 - accuracy: 0.8675 - val_loss: 0.6145 - val_accuracy: 0.6692\n",
      "Epoch 8/20\n",
      "50/50 [==============================] - 0s 2ms/step - loss: 0.4110 - accuracy: 0.9077 - val_loss: 0.5962 - val_accuracy: 0.7168\n",
      "Epoch 9/20\n",
      "50/50 [==============================] - 0s 2ms/step - loss: 0.3612 - accuracy: 0.9385 - val_loss: 0.5932 - val_accuracy: 0.7243\n",
      "Epoch 10/20\n",
      "50/50 [==============================] - 0s 2ms/step - loss: 0.2223 - accuracy: 0.9680 - val_loss: 0.4561 - val_accuracy: 0.7895\n",
      "Epoch 11/20\n",
      "50/50 [==============================] - 0s 2ms/step - loss: 0.1194 - accuracy: 0.9780 - val_loss: 0.4819 - val_accuracy: 0.7744\n",
      "Epoch 12/20\n",
      "50/50 [==============================] - 0s 2ms/step - loss: 0.0841 - accuracy: 0.9856 - val_loss: 0.4636 - val_accuracy: 0.7920\n",
      "Epoch 13/20\n",
      "50/50 [==============================] - 0s 2ms/step - loss: 0.0648 - accuracy: 0.9900 - val_loss: 0.5417 - val_accuracy: 0.7469\n",
      "Epoch 14/20\n",
      "50/50 [==============================] - 0s 2ms/step - loss: 0.0523 - accuracy: 0.9906 - val_loss: 0.5169 - val_accuracy: 0.7794\n",
      "Epoch 15/20\n",
      "50/50 [==============================] - 0s 2ms/step - loss: 0.0424 - accuracy: 0.9937 - val_loss: 0.5212 - val_accuracy: 0.7820\n",
      "Epoch 16/20\n",
      "50/50 [==============================] - 0s 2ms/step - loss: 0.0351 - accuracy: 0.9937 - val_loss: 0.5589 - val_accuracy: 0.7694\n",
      "Epoch 17/20\n",
      "50/50 [==============================] - 0s 2ms/step - loss: 0.0287 - accuracy: 0.9956 - val_loss: 0.5598 - val_accuracy: 0.7719\n",
      "Epoch 18/20\n",
      "50/50 [==============================] - 0s 2ms/step - loss: 0.0244 - accuracy: 0.9981 - val_loss: 0.5680 - val_accuracy: 0.7694\n",
      "Epoch 19/20\n",
      "50/50 [==============================] - 0s 2ms/step - loss: 0.0214 - accuracy: 0.9981 - val_loss: 0.6059 - val_accuracy: 0.7669\n",
      "Epoch 20/20\n",
      "50/50 [==============================] - 0s 2ms/step - loss: 0.0188 - accuracy: 0.9987 - val_loss: 0.6487 - val_accuracy: 0.7644\n"
     ]
    }
   ],
   "source": [
    "num_epochs = 20\n",
    "history = model.fit(training_padded, np.array(training_labels), epochs = 20, validation_data = (test_padded, np.array(test_labels)))"
   ]
  },
  {
   "cell_type": "code",
   "execution_count": 53,
   "id": "0422c0de",
   "metadata": {},
   "outputs": [
    {
     "name": "stdout",
     "output_type": "stream",
     "text": [
      "13/13 [==============================] - 0s 1ms/step - loss: 0.6487 - accuracy: 0.7644\n"
     ]
    }
   ],
   "source": [
    "pred = model.predict_classes(test_padded)\n",
    "acc = model.evaluate(test_padded, np.array(test_labels))\n",
    "proba_rnn = model.predict(test_padded)"
   ]
  },
  {
   "cell_type": "code",
   "execution_count": 54,
   "id": "ee302e9b",
   "metadata": {},
   "outputs": [
    {
     "name": "stdout",
     "output_type": "stream",
     "text": [
      "Test loss is 0.65 accuracy is 0.76  \n",
      "[[168  27]\n",
      " [ 67 137]]\n"
     ]
    }
   ],
   "source": [
    "from sklearn.metrics import confusion_matrix\n",
    "print(\"Test loss is {0:.2f} accuracy is {1:.2f}  \".format(acc[0],acc[1]))\n",
    "print(confusion_matrix(pred, test_labels))"
   ]
  },
  {
   "cell_type": "code",
   "execution_count": null,
   "id": "e01e4f8c",
   "metadata": {},
   "outputs": [],
   "source": []
  }
 ],
 "metadata": {
  "kernelspec": {
   "display_name": "Python 3",
   "language": "python",
   "name": "python3"
  },
  "language_info": {
   "codemirror_mode": {
    "name": "ipython",
    "version": 3
   },
   "file_extension": ".py",
   "mimetype": "text/x-python",
   "name": "python",
   "nbconvert_exporter": "python",
   "pygments_lexer": "ipython3",
   "version": "3.8.8"
  }
 },
 "nbformat": 4,
 "nbformat_minor": 5
}
